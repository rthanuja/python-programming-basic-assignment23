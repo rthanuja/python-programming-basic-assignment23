{
 "cells": [
  {
   "cell_type": "code",
   "execution_count": 1,
   "id": "ef7dbc72",
   "metadata": {},
   "outputs": [],
   "source": [
    "'''Create a function that takes a number as an argument and returns True or False depending on whether the number is symmetrical\n",
    "or not. A number is symmetrical when it is the same asits reverse.'''\n",
    "def issymmetrical(n):\n",
    "    n=str(n)\n",
    "    if n==n[::-1]:\n",
    "        return True\n",
    "    return False"
   ]
  },
  {
   "cell_type": "code",
   "execution_count": 2,
   "id": "43fc19b2",
   "metadata": {},
   "outputs": [
    {
     "data": {
      "text/plain": [
       "True"
      ]
     },
     "execution_count": 2,
     "metadata": {},
     "output_type": "execute_result"
    }
   ],
   "source": [
    "issymmetrical(7227)"
   ]
  },
  {
   "cell_type": "code",
   "execution_count": 3,
   "id": "8c751486",
   "metadata": {},
   "outputs": [
    {
     "data": {
      "text/plain": [
       "False"
      ]
     },
     "execution_count": 3,
     "metadata": {},
     "output_type": "execute_result"
    }
   ],
   "source": [
    "issymmetrical(12567)"
   ]
  },
  {
   "cell_type": "code",
   "execution_count": 4,
   "id": "a1bd464a",
   "metadata": {},
   "outputs": [
    {
     "data": {
      "text/plain": [
       "True"
      ]
     },
     "execution_count": 4,
     "metadata": {},
     "output_type": "execute_result"
    }
   ],
   "source": [
    "issymmetrical(44444444)"
   ]
  },
  {
   "cell_type": "code",
   "execution_count": 5,
   "id": "a1e909e3",
   "metadata": {},
   "outputs": [
    {
     "data": {
      "text/plain": [
       "False"
      ]
     },
     "execution_count": 5,
     "metadata": {},
     "output_type": "execute_result"
    }
   ],
   "source": [
    "issymmetrical(9939)"
   ]
  },
  {
   "cell_type": "code",
   "execution_count": 6,
   "id": "7a622242",
   "metadata": {},
   "outputs": [
    {
     "data": {
      "text/plain": [
       "True"
      ]
     },
     "execution_count": 6,
     "metadata": {},
     "output_type": "execute_result"
    }
   ],
   "source": [
    "issymmetrical(1112111)"
   ]
  },
  {
   "cell_type": "code",
   "execution_count": 7,
   "id": "9532a621",
   "metadata": {},
   "outputs": [],
   "source": [
    "'''Given a string of numbers separated by a comma and space, return the product of the numbers.'''\n",
    "def multiply(s):\n",
    "    s=s.split(\",\")\n",
    "    t=1\n",
    "    for i in s:\n",
    "        t*=int(i)\n",
    "    return t     "
   ]
  },
  {
   "cell_type": "code",
   "execution_count": 8,
   "id": "7a6a2fdb",
   "metadata": {},
   "outputs": [
    {
     "data": {
      "text/plain": [
       "6"
      ]
     },
     "execution_count": 8,
     "metadata": {},
     "output_type": "execute_result"
    }
   ],
   "source": [
    "multiply(\"2,3\")"
   ]
  },
  {
   "cell_type": "code",
   "execution_count": 9,
   "id": "c344e5af",
   "metadata": {},
   "outputs": [
    {
     "data": {
      "text/plain": [
       "24"
      ]
     },
     "execution_count": 9,
     "metadata": {},
     "output_type": "execute_result"
    }
   ],
   "source": [
    "multiply(\"1,2,3,4\")"
   ]
  },
  {
   "cell_type": "code",
   "execution_count": 10,
   "id": "414ca515",
   "metadata": {},
   "outputs": [
    {
     "data": {
      "text/plain": [
       "0"
      ]
     },
     "execution_count": 10,
     "metadata": {},
     "output_type": "execute_result"
    }
   ],
   "source": [
    "multiply(\"54,75,453,0\")"
   ]
  },
  {
   "cell_type": "code",
   "execution_count": 11,
   "id": "144301d7",
   "metadata": {},
   "outputs": [
    {
     "data": {
      "text/plain": [
       "-20"
      ]
     },
     "execution_count": 11,
     "metadata": {},
     "output_type": "execute_result"
    }
   ],
   "source": [
    "multiply(\"10,-2\")"
   ]
  },
  {
   "cell_type": "code",
   "execution_count": 12,
   "id": "8aeb257d",
   "metadata": {},
   "outputs": [],
   "source": [
    "#Create a function that squares every digit of a number.\n",
    "def squaredigits(n):\n",
    "    n=str(n)\n",
    "    s=\"\"\n",
    "    for i in n:\n",
    "        s+=str(int(i)**2)\n",
    "    return int(s)\n",
    "        \n",
    "        \n",
    "        "
   ]
  },
  {
   "cell_type": "code",
   "execution_count": 13,
   "id": "cbc9da29",
   "metadata": {},
   "outputs": [
    {
     "data": {
      "text/plain": [
       "811181"
      ]
     },
     "execution_count": 13,
     "metadata": {},
     "output_type": "execute_result"
    }
   ],
   "source": [
    "squaredigits(9119)"
   ]
  },
  {
   "cell_type": "code",
   "execution_count": 14,
   "id": "68f374fe",
   "metadata": {},
   "outputs": [
    {
     "data": {
      "text/plain": [
       "416649"
      ]
     },
     "execution_count": 14,
     "metadata": {},
     "output_type": "execute_result"
    }
   ],
   "source": [
    "squaredigits(2483)"
   ]
  },
  {
   "cell_type": "code",
   "execution_count": 15,
   "id": "359fe428",
   "metadata": {},
   "outputs": [
    {
     "data": {
      "text/plain": [
       "9414"
      ]
     },
     "execution_count": 15,
     "metadata": {},
     "output_type": "execute_result"
    }
   ],
   "source": [
    "squaredigits(3212)"
   ]
  },
  {
   "cell_type": "code",
   "execution_count": 16,
   "id": "9df55a56",
   "metadata": {},
   "outputs": [],
   "source": [
    "#Create a function that sorts a list and removes all duplicate items from it.\n",
    "def setify(l):\n",
    "    l=list(set(l))\n",
    "    return l   "
   ]
  },
  {
   "cell_type": "code",
   "execution_count": 17,
   "id": "8d5c3a11",
   "metadata": {},
   "outputs": [
    {
     "data": {
      "text/plain": [
       "[1, 3, 5]"
      ]
     },
     "execution_count": 17,
     "metadata": {},
     "output_type": "execute_result"
    }
   ],
   "source": [
    "setify([1,3,3,5,5])"
   ]
  },
  {
   "cell_type": "code",
   "execution_count": 18,
   "id": "c7b92d77",
   "metadata": {},
   "outputs": [
    {
     "data": {
      "text/plain": [
       "[4]"
      ]
     },
     "execution_count": 18,
     "metadata": {},
     "output_type": "execute_result"
    }
   ],
   "source": [
    "setify([4,4,4,4])"
   ]
  },
  {
   "cell_type": "code",
   "execution_count": 19,
   "id": "0d6f7b07",
   "metadata": {},
   "outputs": [
    {
     "data": {
      "text/plain": [
       "[5, 7, 8, 9, 10, 15]"
      ]
     },
     "execution_count": 19,
     "metadata": {},
     "output_type": "execute_result"
    }
   ],
   "source": [
    "setify([5,7,8,9,10,15])"
   ]
  },
  {
   "cell_type": "code",
   "execution_count": 20,
   "id": "9295a51b",
   "metadata": {},
   "outputs": [
    {
     "data": {
      "text/plain": [
       "[1, 2, 3]"
      ]
     },
     "execution_count": 20,
     "metadata": {},
     "output_type": "execute_result"
    }
   ],
   "source": [
    "setify([3,3,3,2,1])"
   ]
  },
  {
   "cell_type": "code",
   "execution_count": 21,
   "id": "6947b0cc",
   "metadata": {},
   "outputs": [],
   "source": [
    "#Create a function that returns the mean of all digits.\n",
    "def mean(n):\n",
    "    n=str(n)\n",
    "    s=0\n",
    "    for i in n:\n",
    "        s+=int(i)\n",
    "    return (s//len(n))"
   ]
  },
  {
   "cell_type": "code",
   "execution_count": 22,
   "id": "7dca5ef3",
   "metadata": {},
   "outputs": [
    {
     "data": {
      "text/plain": [
       "3"
      ]
     },
     "execution_count": 22,
     "metadata": {},
     "output_type": "execute_result"
    }
   ],
   "source": [
    "mean(42)"
   ]
  },
  {
   "cell_type": "code",
   "execution_count": 23,
   "id": "789091b8",
   "metadata": {},
   "outputs": [
    {
     "data": {
      "text/plain": [
       "3"
      ]
     },
     "execution_count": 23,
     "metadata": {},
     "output_type": "execute_result"
    }
   ],
   "source": [
    "mean(12345)"
   ]
  },
  {
   "cell_type": "code",
   "execution_count": 24,
   "id": "4d7d06c5",
   "metadata": {},
   "outputs": [
    {
     "data": {
      "text/plain": [
       "6"
      ]
     },
     "execution_count": 24,
     "metadata": {},
     "output_type": "execute_result"
    }
   ],
   "source": [
    "mean(666)"
   ]
  }
 ],
 "metadata": {
  "kernelspec": {
   "display_name": "Python 3 (ipykernel)",
   "language": "python",
   "name": "python3"
  },
  "language_info": {
   "codemirror_mode": {
    "name": "ipython",
    "version": 3
   },
   "file_extension": ".py",
   "mimetype": "text/x-python",
   "name": "python",
   "nbconvert_exporter": "python",
   "pygments_lexer": "ipython3",
   "version": "3.10.9"
  }
 },
 "nbformat": 4,
 "nbformat_minor": 5
}
